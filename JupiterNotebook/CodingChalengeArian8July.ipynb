{
 "cells": [
  {
   "cell_type": "code",
   "execution_count": 99,
   "metadata": {
    "collapsed": false
   },
   "outputs": [],
   "source": [
    "import numpy as np\n",
    "import os.path\n",
    "import json\n",
    "import collections\n",
    "import datetime\n",
    "import collections\n",
    "from statistics import median "
   ]
  },
  {
   "cell_type": "code",
   "execution_count": 1,
   "metadata": {
    "collapsed": false
   },
   "outputs": [
    {
     "ename": "NameError",
     "evalue": "name 'os' is not defined",
     "output_type": "error",
     "traceback": [
      "\u001b[1;31m---------------------------------------------------------------------------\u001b[0m",
      "\u001b[1;31mNameError\u001b[0m                                 Traceback (most recent call last)",
      "\u001b[1;32m<ipython-input-1-9823e2ebd2bb>\u001b[0m in \u001b[0;36m<module>\u001b[1;34m()\u001b[0m\n\u001b[1;32m----> 1\u001b[1;33m \u001b[0mipath1\u001b[0m \u001b[1;33m=\u001b[0m \u001b[0mos\u001b[0m\u001b[1;33m.\u001b[0m\u001b[0mpath\u001b[0m\u001b[1;33m.\u001b[0m\u001b[0mjoin\u001b[0m\u001b[1;33m(\u001b[0m\u001b[1;34m\"paymo_input\"\u001b[0m\u001b[1;33m,\u001b[0m \u001b[1;34m\"BatchSample.csv\"\u001b[0m\u001b[1;33m)\u001b[0m\u001b[1;33m\u001b[0m\u001b[0m\n\u001b[0m\u001b[0;32m      2\u001b[0m \u001b[0mipath2\u001b[0m \u001b[1;33m=\u001b[0m \u001b[0mos\u001b[0m\u001b[1;33m.\u001b[0m\u001b[0mpath\u001b[0m\u001b[1;33m.\u001b[0m\u001b[0mjoin\u001b[0m\u001b[1;33m(\u001b[0m\u001b[1;34m\"paymo_input\"\u001b[0m\u001b[1;33m,\u001b[0m \u001b[1;34m\"StreamSample.csv\"\u001b[0m\u001b[1;33m)\u001b[0m\u001b[1;33m\u001b[0m\u001b[0m\n\u001b[0;32m      3\u001b[0m \u001b[0mopath1\u001b[0m \u001b[1;33m=\u001b[0m \u001b[0mos\u001b[0m\u001b[1;33m.\u001b[0m\u001b[0mpath\u001b[0m\u001b[1;33m.\u001b[0m\u001b[0mjoin\u001b[0m\u001b[1;33m(\u001b[0m\u001b[1;34m\"paymo_output\"\u001b[0m\u001b[1;33m,\u001b[0m \u001b[1;34m\"output1.txt\"\u001b[0m\u001b[1;33m)\u001b[0m\u001b[1;33m\u001b[0m\u001b[0m\n\u001b[0;32m      4\u001b[0m \u001b[0mopath2\u001b[0m \u001b[1;33m=\u001b[0m \u001b[0mos\u001b[0m\u001b[1;33m.\u001b[0m\u001b[0mpath\u001b[0m\u001b[1;33m.\u001b[0m\u001b[0mjoin\u001b[0m\u001b[1;33m(\u001b[0m\u001b[1;34m\"paymo_output\"\u001b[0m\u001b[1;33m,\u001b[0m \u001b[1;34m\"output2.txt\"\u001b[0m\u001b[1;33m)\u001b[0m\u001b[1;33m\u001b[0m\u001b[0m\n\u001b[0;32m      5\u001b[0m \u001b[0mopath3\u001b[0m \u001b[1;33m=\u001b[0m \u001b[0mos\u001b[0m\u001b[1;33m.\u001b[0m\u001b[0mpath\u001b[0m\u001b[1;33m.\u001b[0m\u001b[0mjoin\u001b[0m\u001b[1;33m(\u001b[0m\u001b[1;34m\"paymo_output\"\u001b[0m\u001b[1;33m,\u001b[0m \u001b[1;34m\"output3.txt\"\u001b[0m\u001b[1;33m)\u001b[0m\u001b[1;33m\u001b[0m\u001b[0m\n",
      "\u001b[1;31mNameError\u001b[0m: name 'os' is not defined"
     ]
    }
   ],
   "source": [
    "ipath1 = os.path.join(\"paymo_input\", \"BatchSample.csv\")\n",
    "ipath2 = os.path.join(\"paymo_input\", \"StreamSample.csv\")\n",
    "opath1 = os.path.join(\"paymo_output\", \"output1.txt\")\n",
    "opath2 = os.path.join(\"paymo_output\", \"output2.txt\")\n",
    "opath3 = os.path.join(\"paymo_output\", \"output3.txt\")\n",
    "#open(fpath).readlines()[:4]"
   ]
  },
  {
   "cell_type": "code",
   "execution_count": 101,
   "metadata": {
    "collapsed": false
   },
   "outputs": [
    {
     "data": {
      "text/plain": [
       "'venmo_output\\\\output.txt'"
      ]
     },
     "execution_count": 101,
     "metadata": {},
     "output_type": "execute_result"
    }
   ],
   "source": [
    "opath"
   ]
  },
  {
   "cell_type": "code",
   "execution_count": 102,
   "metadata": {
    "collapsed": false
   },
   "outputs": [
    {
     "data": {
      "text/plain": [
       "'venmo_input\\\\venmo-trans.txt'"
      ]
     },
     "execution_count": 102,
     "metadata": {},
     "output_type": "execute_result"
    }
   ],
   "source": [
    "fpath"
   ]
  },
  {
   "cell_type": "code",
   "execution_count": 103,
   "metadata": {
    "collapsed": true
   },
   "outputs": [],
   "source": [
    "lineimp=open(fpath).readline()"
   ]
  },
  {
   "cell_type": "code",
   "execution_count": 104,
   "metadata": {
    "collapsed": false
   },
   "outputs": [
    {
     "name": "stdout",
     "output_type": "stream",
     "text": [
      "{\"created_time\": \"2016-04-07T03:33:19Z\", \"target\": \"Jamie-Korn\", \"actor\": \"Jordan-Gruber\"}\n",
      "\n"
     ]
    }
   ],
   "source": [
    "print(lineimp)"
   ]
  },
  {
   "cell_type": "code",
   "execution_count": 105,
   "metadata": {
    "collapsed": true
   },
   "outputs": [],
   "source": [
    "#for line in open(fpath):\n",
    "#    if 'target' in line:\n",
    "#        fields=line.split(',')"
   ]
  },
  {
   "cell_type": "code",
   "execution_count": 106,
   "metadata": {
    "collapsed": false
   },
   "outputs": [],
   "source": [
    "#fields"
   ]
  },
  {
   "cell_type": "code",
   "execution_count": 107,
   "metadata": {
    "collapsed": false
   },
   "outputs": [],
   "source": [
    "json_data=open(fpath).readline()\n",
    "\n",
    "data = json.loads(json_data)"
   ]
  },
  {
   "cell_type": "code",
   "execution_count": 108,
   "metadata": {
    "collapsed": false
   },
   "outputs": [
    {
     "data": {
      "text/plain": [
       "{'actor': 'Jordan-Gruber',\n",
       " 'created_time': '2016-04-07T03:33:19Z',\n",
       " 'target': 'Jamie-Korn'}"
      ]
     },
     "execution_count": 108,
     "metadata": {},
     "output_type": "execute_result"
    }
   ],
   "source": [
    "data"
   ]
  },
  {
   "cell_type": "code",
   "execution_count": 109,
   "metadata": {
    "collapsed": true
   },
   "outputs": [],
   "source": [
    "TranLast60 =[]\n",
    "maxtimestamp=datetime.datetime.strptime(\"1977-03-28 23:23:12\", \"%Y-%m-%d %H:%M:%S\")\n",
    "maxtimestamp=datetime.datetime(1, 1, 1, 1, 1, 1)"
   ]
  },
  {
   "cell_type": "code",
   "execution_count": 110,
   "metadata": {
    "collapsed": false
   },
   "outputs": [],
   "source": [
    "datehv1=data['created_time'].replace('T', ' ')\n",
    "#TranLast60 = collections.defaultdict(list)\n",
    "#TranLast60={}"
   ]
  },
  {
   "cell_type": "code",
   "execution_count": 111,
   "metadata": {
    "collapsed": false
   },
   "outputs": [],
   "source": [
    "datahv2=datehv1.replace('Z', '')"
   ]
  },
  {
   "cell_type": "code",
   "execution_count": 112,
   "metadata": {
    "collapsed": false
   },
   "outputs": [
    {
     "data": {
      "text/plain": [
       "'2016-04-07 03:33:19'"
      ]
     },
     "execution_count": 112,
     "metadata": {},
     "output_type": "execute_result"
    }
   ],
   "source": [
    "datahv2"
   ]
  },
  {
   "cell_type": "code",
   "execution_count": 113,
   "metadata": {
    "collapsed": true
   },
   "outputs": [],
   "source": [
    "transdatetime=datetime.datetime.strptime(datahv2, \"%Y-%m-%d %H:%M:%S\")"
   ]
  },
  {
   "cell_type": "code",
   "execution_count": 114,
   "metadata": {
    "collapsed": false
   },
   "outputs": [
    {
     "data": {
      "text/plain": [
       "datetime.datetime(2016, 4, 7, 3, 33, 19)"
      ]
     },
     "execution_count": 114,
     "metadata": {},
     "output_type": "execute_result"
    }
   ],
   "source": [
    "transdatetime"
   ]
  },
  {
   "cell_type": "code",
   "execution_count": 177,
   "metadata": {
    "collapsed": false
   },
   "outputs": [],
   "source": [
    "TranLast60 =[]\n",
    "outfile=open(opath,'w')\n",
    "outfile.close()\n",
    "\n",
    "meddegreetime=[]\n",
    "outfile=open(opath,'w')\n",
    "maxtimestamp=datetime.datetime(1, 1, 1, 1, 1, 1)\n",
    "for line in open(fpath):\n",
    "    data = json.loads(line)\n",
    "    datehv1=data['created_time'].replace('T', ' ')\n",
    "    datahv2=datehv1.replace('Z', '')\n",
    "    transdatetime=datetime.datetime.strptime(datahv2, \"%Y-%m-%d %H:%M:%S\")\n",
    "    if data['actor']!='' and data['target']!='' and data['created_time']!='':\n",
    "        TranLast60.append([transdatetime,data['actor'],data['target']])\n",
    "        if transdatetime>maxtimestamp:\n",
    "            maxtimestamp=transdatetime\n",
    "    else:\n",
    "        print('one transaction at ',data['created_time'],' ignored due to curropted data')\n",
    "\n",
    "    # This part filter the transactions\n",
    "    FilteredTranLast60=[]\n",
    "    for recordind, recordvalue in enumerate(TranLast60):\n",
    "           if not (TranLast60[recordind][0]-maxtimestamp)> datetime.timedelta(seconds=60) and not (maxtimestamp-TranLast60[recordind][0])> datetime.timedelta(seconds=60):\n",
    "                FilteredTranLast60.append(TranLast60[recordind])\n",
    "    TranLast60=FilteredTranLast60\n",
    "    \n",
    "    \n",
    "    #for recordind, recordvalue in enumerate(TranLast60):\n",
    "    #    if (TranLast60[recordind][0]-maxtimestamp)> datetime.timedelta(seconds=60) or (maxtimestamp-TranLast60[recordind][0])> datetime.timedelta(seconds=60):\n",
    "    #        TranLast60.pop(recordind)\n",
    "    \n",
    "    graph=collections.defaultdict(list)\n",
    "    for recordind, recordvalue in enumerate(TranLast60):\n",
    "        graph[TranLast60[recordind][1]].append(TranLast60[recordind][2])\n",
    "        graph[TranLast60[recordind][2]].append(TranLast60[recordind][1])\n",
    "    \n",
    "    degree={}\n",
    "    for key in graph:\n",
    "        if len(list(set(graph[key])))>0:\n",
    "            degree[key]=len(list(set(graph[key])))\n",
    "    currentmeddegree=median(sorted(degree.values()))  \n",
    "    outfile.write(str(currentmeddegree)+'\\n')\n",
    "    meddegreetime.append(currentmeddegree)\n",
    "outfile.close()    "
   ]
  },
  {
   "cell_type": "code",
   "execution_count": 170,
   "metadata": {
    "collapsed": false
   },
   "outputs": [],
   "source": []
  },
  {
   "cell_type": "code",
   "execution_count": 174,
   "metadata": {
    "collapsed": false
   },
   "outputs": [
    {
     "data": {
      "text/plain": [
       "{'Jamie-Korn': 1, 'Maddie-Franklin': 1, 'Maryann-Berry': 1, 'Ying-Mo': 1}"
      ]
     },
     "execution_count": 174,
     "metadata": {},
     "output_type": "execute_result"
    }
   ],
   "source": [
    "degree"
   ]
  },
  {
   "cell_type": "code",
   "execution_count": 134,
   "metadata": {
    "collapsed": false
   },
   "outputs": [
    {
     "data": {
      "text/plain": [
       "[[datetime.datetime(2016, 4, 7, 3, 33, 19), 'Maryann-Berry', 'Jamie-Korn'],\n",
       " [datetime.datetime(2016, 4, 7, 3, 34, 18), 'Jamie-Korn', 'Ying-Mo'],\n",
       " [datetime.datetime(2016, 4, 7, 3, 34, 58),\n",
       "  'Maryann-Berry',\n",
       "  'Maddie-Franklin']]"
      ]
     },
     "execution_count": 134,
     "metadata": {},
     "output_type": "execute_result"
    }
   ],
   "source": [
    "TranLast60"
   ]
  },
  {
   "cell_type": "code",
   "execution_count": 143,
   "metadata": {
    "collapsed": false
   },
   "outputs": [
    {
     "data": {
      "text/plain": [
       "datetime.timedelta(0, 60)"
      ]
     },
     "execution_count": 143,
     "metadata": {},
     "output_type": "execute_result"
    }
   ],
   "source": [
    "datetime.timedelta(seconds=60)"
   ]
  },
  {
   "cell_type": "code",
   "execution_count": 146,
   "metadata": {
    "collapsed": false
   },
   "outputs": [
    {
     "data": {
      "text/plain": [
       "datetime.timedelta(0, 99)"
      ]
     },
     "execution_count": 146,
     "metadata": {},
     "output_type": "execute_result"
    }
   ],
   "source": [
    "(maxtimestamp-TranLast60[0][0])"
   ]
  },
  {
   "cell_type": "code",
   "execution_count": 147,
   "metadata": {
    "collapsed": false
   },
   "outputs": [
    {
     "data": {
      "text/plain": [
       "True"
      ]
     },
     "execution_count": 147,
     "metadata": {},
     "output_type": "execute_result"
    }
   ],
   "source": [
    "datetime.timedelta(0, 99)>datetime.timedelta(0, 60)"
   ]
  },
  {
   "cell_type": "code",
   "execution_count": 149,
   "metadata": {
    "collapsed": false
   },
   "outputs": [
    {
     "data": {
      "text/plain": [
       "True"
      ]
     },
     "execution_count": 149,
     "metadata": {},
     "output_type": "execute_result"
    }
   ],
   "source": [
    "(maxtimestamp-TranLast60[0][0])> datetime.timedelta(seconds=60)"
   ]
  },
  {
   "cell_type": "code",
   "execution_count": 150,
   "metadata": {
    "collapsed": false
   },
   "outputs": [
    {
     "data": {
      "text/plain": [
       "[[datetime.datetime(2016, 4, 7, 3, 33, 19), 'Maryann-Berry', 'Jamie-Korn'],\n",
       " [datetime.datetime(2016, 4, 7, 3, 34, 18), 'Jamie-Korn', 'Ying-Mo'],\n",
       " [datetime.datetime(2016, 4, 7, 3, 34, 58),\n",
       "  'Maryann-Berry',\n",
       "  'Maddie-Franklin']]"
      ]
     },
     "execution_count": 150,
     "metadata": {},
     "output_type": "execute_result"
    }
   ],
   "source": [
    "TranLast60"
   ]
  },
  {
   "cell_type": "code",
   "execution_count": 151,
   "metadata": {
    "collapsed": false
   },
   "outputs": [
    {
     "data": {
      "text/plain": [
       "[datetime.datetime(2016, 4, 7, 3, 33, 19), 'Maryann-Berry', 'Jamie-Korn']"
      ]
     },
     "execution_count": 151,
     "metadata": {},
     "output_type": "execute_result"
    }
   ],
   "source": [
    "TranLast60.pop(0)"
   ]
  },
  {
   "cell_type": "code",
   "execution_count": 152,
   "metadata": {
    "collapsed": false
   },
   "outputs": [
    {
     "data": {
      "text/plain": [
       "[[datetime.datetime(2016, 4, 7, 3, 34, 18), 'Jamie-Korn', 'Ying-Mo'],\n",
       " [datetime.datetime(2016, 4, 7, 3, 34, 58),\n",
       "  'Maryann-Berry',\n",
       "  'Maddie-Franklin']]"
      ]
     },
     "execution_count": 152,
     "metadata": {},
     "output_type": "execute_result"
    }
   ],
   "source": [
    "TranLast60"
   ]
  },
  {
   "cell_type": "code",
   "execution_count": 159,
   "metadata": {
    "collapsed": false
   },
   "outputs": [
    {
     "data": {
      "text/plain": [
       "False"
      ]
     },
     "execution_count": 159,
     "metadata": {},
     "output_type": "execute_result"
    }
   ],
   "source": [
    "((TranLast60[0][0]-maxtimestamp)> datetime.timedelta(seconds=60)) or ((maxtimestamp-TranLast60[0][0])> datetime.timedelta(seconds=60))"
   ]
  },
  {
   "cell_type": "code",
   "execution_count": 162,
   "metadata": {
    "collapsed": false
   },
   "outputs": [
    {
     "data": {
      "text/plain": [
       "datetime.timedelta(0, 40)"
      ]
     },
     "execution_count": 162,
     "metadata": {},
     "output_type": "execute_result"
    }
   ],
   "source": [
    "(maxtimestamp-TranLast60[0][0])"
   ]
  },
  {
   "cell_type": "code",
   "execution_count": null,
   "metadata": {
    "collapsed": true
   },
   "outputs": [],
   "source": []
  }
 ],
 "metadata": {
  "anaconda-cloud": {},
  "kernelspec": {
   "display_name": "Python [Root]",
   "language": "python",
   "name": "Python [Root]"
  },
  "language_info": {
   "codemirror_mode": {
    "name": "ipython",
    "version": 3
   },
   "file_extension": ".py",
   "mimetype": "text/x-python",
   "name": "python",
   "nbconvert_exporter": "python",
   "pygments_lexer": "ipython3",
   "version": "3.5.1"
  }
 },
 "nbformat": 4,
 "nbformat_minor": 0
}
